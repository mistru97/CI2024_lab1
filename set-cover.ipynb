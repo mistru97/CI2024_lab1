{
 "cells": [
  {
   "cell_type": "markdown",
   "metadata": {},
   "source": [
    "Copyright **`(c)`** 2024 Giovanni Squillero `<giovanni.squillero@polito.it>`  \n",
    "[`https://github.com/squillero/computational-intelligence`](https://github.com/squillero/computational-intelligence)  \n",
    "Free for personal or classroom use; see [`LICENSE.md`](https://github.com/squillero/computational-intelligence/blob/master/LICENSE.md) for details.  "
   ]
  },
  {
   "cell_type": "markdown",
   "metadata": {},
   "source": [
    "# Set Cover problem\n",
    "\n",
    "See: https://en.wikipedia.org/wiki/Set_cover_problem"
   ]
  },
  {
   "cell_type": "code",
   "execution_count": 982,
   "metadata": {},
   "outputs": [],
   "source": [
    "from random import random, seed\n",
    "from itertools import accumulate\n",
    "from icecream import ic\n",
    "from matplotlib import pyplot as plt\n",
    "from tqdm.auto import tqdm\n",
    "import numpy as np"
   ]
  },
  {
   "cell_type": "markdown",
   "metadata": {},
   "source": [
    "## Reproducible Initialization\n",
    "\n",
    "If you want to get reproducible results, use `rng` (and restart the kernel); for non-reproducible ones, use `np.random`."
   ]
  },
  {
   "cell_type": "code",
   "execution_count": 983,
   "metadata": {},
   "outputs": [],
   "source": [
    "UNIVERSE_SIZE = 100000\n",
    "NUM_SETS = 10000\n",
    "DENSITY = 0.2\n",
    "\n",
    "rng = np.random.Generator(np.random.PCG64([UNIVERSE_SIZE, NUM_SETS, int(10_000 * DENSITY)]))"
   ]
  },
  {
   "cell_type": "code",
   "execution_count": 984,
   "metadata": {},
   "outputs": [],
   "source": [
    "# DON'T EDIT THESE LINES!\n",
    "\n",
    "SETS = np.random.random((NUM_SETS, UNIVERSE_SIZE)) < DENSITY\n",
    "for s in range(UNIVERSE_SIZE):\n",
    "    if not np.any(SETS[:, s]):\n",
    "        SETS[np.random.randint(NUM_SETS), s] = True\n",
    "COSTS = np.pow(SETS.sum(axis=1), 1.1)"
   ]
  },
  {
   "cell_type": "markdown",
   "metadata": {},
   "source": [
    "## Helper Functions"
   ]
  },
  {
   "cell_type": "code",
   "execution_count": 985,
   "metadata": {},
   "outputs": [],
   "source": [
    "def valid(solution):\n",
    "    \"\"\"Checks wether solution is valid (ie. covers all universe)\"\"\"\n",
    "    return np.all(np.logical_or.reduce(SETS[solution]))\n",
    "\n",
    "\n",
    "def cost(solution):\n",
    "    \"\"\"Returns the cost of a solution (to be minimized)\"\"\"\n",
    "    return COSTS[solution].sum()"
   ]
  },
  {
   "cell_type": "markdown",
   "metadata": {},
   "source": [
    "## Have Fun!"
   ]
  },
  {
   "cell_type": "code",
   "execution_count": 986,
   "metadata": {},
   "outputs": [
    {
     "data": {
      "text/plain": [
       "(np.True_, np.float64(538408296.8147318))"
      ]
     },
     "execution_count": 986,
     "metadata": {},
     "output_type": "execute_result"
    }
   ],
   "source": [
    "# A dumb solution of \"all\" sets\n",
    "solution = np.full(NUM_SETS, True)\n",
    "valid(solution), cost(solution)"
   ]
  },
  {
   "cell_type": "code",
   "execution_count": 987,
   "metadata": {},
   "outputs": [
    {
     "data": {
      "text/plain": [
       "(np.True_, np.float64(268504449.64778835))"
      ]
     },
     "execution_count": 987,
     "metadata": {},
     "output_type": "execute_result"
    }
   ],
   "source": [
    "# A random solution with random 50% of the sets\n",
    "solution = rng.random(NUM_SETS) < .5\n",
    "valid(solution), cost(solution)"
   ]
  },
  {
   "cell_type": "markdown",
   "metadata": {},
   "source": [
    "UTILS"
   ]
  },
  {
   "cell_type": "code",
   "execution_count": 988,
   "metadata": {},
   "outputs": [],
   "source": [
    "# function to print fitness graph\n",
    "def print_fitness_history(history: list, history_valid_sol: list):\n",
    "    mask = np.array(history_valid_sol) > -float('inf')\n",
    "    x = np.arange(len(history_valid_sol))[mask]\n",
    "    y = np.array(history_valid_sol)[mask]\n",
    "    plt.figure(figsize=(14,8))\n",
    "    plt.scatter(range(len(history)), history, marker=\".\")\n",
    "    plt.plot(\n",
    "    x,\n",
    "    list(accumulate(y, max)),\n",
    "    color = \"red\"\n",
    "    )"
   ]
  },
  {
   "cell_type": "markdown",
   "metadata": {},
   "source": [
    "FITNESS"
   ]
  },
  {
   "cell_type": "code",
   "execution_count": 989,
   "metadata": {},
   "outputs": [],
   "source": [
    "# use as fitness the solution validity (bool) and -cost\n",
    "def fitness_by_validity(solution: np.ndarray) -> tuple[bool, float]:\n",
    "    return (int(valid(solution)), float(-cost(solution)))\n",
    "\n",
    "# use as fitness the covered items of the universe and -cost\n",
    "def fitness_by_takenItems(solution: np.ndarray) -> tuple[int, float]:\n",
    "    taken_items = int(np.sum(np.any(SETS[solution,:], axis=0)))\n",
    "    return (taken_items, float(-cost(solution)))"
   ]
  },
  {
   "cell_type": "markdown",
   "metadata": {},
   "source": [
    "MUTATION FUNCTIONS"
   ]
  },
  {
   "cell_type": "code",
   "execution_count": 990,
   "metadata": {},
   "outputs": [],
   "source": [
    "def single_mutation(solution: np.ndarray) -> np.ndarray:\n",
    "    temp = solution.copy()\n",
    "    idx = rng.integers(NUM_SETS)\n",
    "    temp[idx] = not temp[idx]\n",
    "    return temp\n",
    "\n",
    "def single_mutation_iterative(solution: np.ndarray) -> np.ndarray:\n",
    "    temp = solution.copy()\n",
    "    idx = None\n",
    "    while idx is None or np.random.random() < 0.5:\n",
    "        idx = rng.integers(NUM_SETS)\n",
    "        temp[idx] = not temp[idx]\n",
    "    return temp\n",
    "\n",
    "def multiple_mutation(solution: np.ndarray) -> np.ndarray:\n",
    "    mask = rng.random(NUM_SETS) < 0.01\n",
    "    temp = np.logical_xor(solution, mask)\n",
    "    return temp"
   ]
  },
  {
   "cell_type": "markdown",
   "metadata": {},
   "source": [
    "<h3>SIMULATED ANNEALING HILL CLIMBING<h3>"
   ]
  },
  {
   "cell_type": "code",
   "execution_count": 999,
   "metadata": {},
   "outputs": [],
   "source": [
    "# function to evaluate f(s) - f(s') aka cost difference\n",
    "# if the solution is invalid or dont cover all the universe size (based on the fitness chosed) assign a penalty to the cost\n",
    "def evaluate_cost_diff(fitness: tuple[int, float], new_fitness: tuple[int, float], fitness_function_name) -> float:\n",
    "    cost_diff = new_fitness[1] - fitness[1]\n",
    "    items_diff = fitness[0] - new_fitness[0]\n",
    "    return cost_diff if items_diff == 0 else cost_diff - (UNIVERSE_SIZE if fitness_function_name == 'fitness_by_takenItems' else 1) * items_diff"
   ]
  },
  {
   "cell_type": "code",
   "execution_count": 1006,
   "metadata": {},
   "outputs": [],
   "source": [
    "NUM_STEPS = 25000\n",
    "DECREASING_RATE = 0.9 # for the temperature\n",
    "MAX_WORSENING_SOL = 20 # after n consecutive worst solution the temperature is increased\n",
    "\n",
    "def set_cover_sahc(solution: np.ndarray, fitness_function, tweak):\n",
    "\n",
    "    ic(fitness_function.__name__)\n",
    "    ic(tweak.__name__)\n",
    "\n",
    "    fitness = fitness_function(solution)\n",
    "    best_solution = solution\n",
    "    best_fitness = fitness\n",
    "    ic(fitness)\n",
    "    temperature = UNIVERSE_SIZE\n",
    "    history = [fitness[1]]\n",
    "    history_valid_sol = [-float('inf')]\n",
    "    worst_fitness_counter = 0\n",
    "\n",
    "    for _ in tqdm(range(NUM_STEPS)):\n",
    "        new_sol = tweak(solution)\n",
    "        new_fitness = fitness_function(new_sol)\n",
    "        history.append(new_fitness[1])\n",
    "        solution_invalid = 1 # only for better print the valid solution\n",
    "\n",
    "        cost_diff = evaluate_cost_diff(fitness, new_fitness, fitness_function.__name__)\n",
    "        p = float(np.exp(cost_diff/temperature))\n",
    "        temperature *= DECREASING_RATE\n",
    "        \n",
    "        if fitness >= new_fitness:\n",
    "            worst_fitness_counter += 1\n",
    "        else:\n",
    "            worst_fitness_counter = 0\n",
    "\n",
    "        if worst_fitness_counter > MAX_WORSENING_SOL:\n",
    "            temperature *= 1.1\n",
    "\n",
    "        if rng.random() < p:\n",
    "            if new_fitness[0] == (UNIVERSE_SIZE if fitness_function.__name__ == 'fitness_by_takenItems' else True):\n",
    "                solution_invalid = 0\n",
    "                best_solution = new_sol\n",
    "                best_fitness = new_fitness\n",
    "                history_valid_sol.append(new_fitness[1])\n",
    "            solution = new_sol\n",
    "            fitness = new_fitness\n",
    "        \n",
    "        if solution_invalid and len(history_valid_sol) > 0:\n",
    "            history_valid_sol.append(history_valid_sol[-1])\n",
    "\n",
    "    return (best_solution, best_fitness, history, history_valid_sol)"
   ]
  },
  {
   "cell_type": "code",
   "execution_count": 1007,
   "metadata": {},
   "outputs": [
    {
     "name": "stderr",
     "output_type": "stream",
     "text": [
      "ic|"
     ]
    },
    {
     "name": "stderr",
     "output_type": "stream",
     "text": [
      " fitness_function.__name__: 'fitness_by_takenItems'\n",
      "ic| tweak.__name__: 'single_mutation'\n",
      "ic| fitness: (100000, -55363304.98631034)\n"
     ]
    },
    {
     "data": {
      "application/vnd.jupyter.widget-view+json": {
       "model_id": "bef928288e3b40338787b977acb6f8f4",
       "version_major": 2,
       "version_minor": 0
      },
      "text/plain": [
       "  0%|          | 0/25000 [00:00<?, ?it/s]"
      ]
     },
     "metadata": {},
     "output_type": "display_data"
    },
    {
     "name": "stderr",
     "output_type": "stream",
     "text": [
      "/tmp/ipykernel_5586/1786175262.py:26: RuntimeWarning: overflow encountered in exp\n",
      "  p = float(np.exp(cost_diff/temperature))\n",
      "ic| final_fitness: (100000, -3607386.9096724167)\n"
     ]
    },
    {
     "data": {
      "image/png": "[encoded data removed]",
      "text/plain": [
       "<Figure size 1400x800 with 1 Axes>"
      ]
     },
     "metadata": {},
     "output_type": "display_data"
    }
   ],
   "source": [
    "# init_solution = np.full(NUM_SETS, True)\n",
    "# init_solution = np.full(NUM_SETS, False)\n",
    "init_solution = rng.random(NUM_SETS) < .1\n",
    "\n",
    "final_solution, final_fitness, history, history_valid_sol = set_cover_sahc(init_solution, fitness_by_takenItems, single_mutation)\n",
    "\n",
    "ic(final_fitness)\n",
    "\n",
    "print_fitness_history(history, history_valid_sol)\n"
   ]
  }
 ],
 "metadata": {
  "kernelspec": {
   "display_name": "CI2024_lab1_env",
   "language": "python",
   "name": "python3"
  },
  "language_info": {
   "codemirror_mode": {
    "name": "ipython",
    "version": 3
   },
   "file_extension": ".py",
   "mimetype": "text/x-python",
   "name": "python",
   "nbconvert_exporter": "python",
   "pygments_lexer": "ipython3",
   "version": "3.10.12"
  }
 },
 "nbformat": 4,
 "nbformat_minor": 2
}
